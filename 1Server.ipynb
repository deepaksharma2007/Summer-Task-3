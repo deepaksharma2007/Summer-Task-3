{
 "cells": [
  {
   "cell_type": "markdown",
   "metadata": {},
   "source": [
    "## Task 3 Video Sharing App Without Audio Using Cv2 and Socket(Server)"
   ]
  },
  {
   "cell_type": "code",
   "execution_count": null,
   "metadata": {},
   "outputs": [],
   "source": [
    "import socket\n",
    "import numpy as np\n",
    "import cv2 as cv\n",
    "import threading\n",
    "\n",
    "skt = socket.socket()\n",
    "skt.bind((\"\", 5005))\n",
    "skt.listen()\n",
    "session, address = skt.accept() #accepting request from any server\n",
    "print(session.recv(2046)) \n",
    "cameraIndex = 'http://192.168.43.1:8080/video' # using camera from IPCamera App\n",
    "camera = cv.VideoCapture(cameraIndex) # staritng camera\n",
    "\n",
    "def sender():\n",
    "    while True:\n",
    "        status, photo = camera.read()\n",
    "        photo = cv.resize(photo, (640, 480))\n",
    "        print(photo.shape)\n",
    "        if status:\n",
    "            session.send(np.ndarray.tobytes(photo))\n",
    "        else: print(\"Could not get frame\")\n",
    "\n",
    "def receiver():\n",
    "    framesLost = 0\n",
    "    print(\"Entered\")\n",
    "    while True:\n",
    "        framesLost += 1\n",
    "        data = session.recv(100000000)\n",
    "        if(data == b'finished'):\n",
    "            print(\"Finished\")\n",
    "            camera.release()\n",
    "            session.close()\n",
    "        else:\n",
    "            photo =  np.frombuffer(data, dtype=np.uint8)\n",
    "            if len(photo) == 640*480*3:\n",
    "                cv.imshow('From Client', photo.reshape(480, 640, 3))\n",
    "                if cv.waitKey(1) == 13:\n",
    "                    session.send(b'finished')\n",
    "                    camera.release()\n",
    "                    cv.destroyAllWindows()\n",
    "                    break\n",
    "            else:\n",
    "                print(\"Lost {} frames\".format(framesLost) )\n",
    "                \n",
    "threading.Thread(target=sender).start()\n",
    "threading.Thread(target=receiver).start()"
   ]
  },
  {
   "cell_type": "code",
   "execution_count": null,
   "metadata": {},
   "outputs": [],
   "source": []
  }
 ],
 "metadata": {
  "kernelspec": {
   "display_name": "Python 3",
   "language": "python",
   "name": "python3"
  },
  "language_info": {
   "codemirror_mode": {
    "name": "ipython",
    "version": 3
   },
   "file_extension": ".py",
   "mimetype": "text/x-python",
   "name": "python",
   "nbconvert_exporter": "python",
   "pygments_lexer": "ipython3",
   "version": "3.8.8"
  }
 },
 "nbformat": 4,
 "nbformat_minor": 4
}
